{
 "cells": [
  {
   "cell_type": "markdown",
   "id": "0fdb74d9",
   "metadata": {},
   "source": [
    "# NUMPY İLE ÇALIŞMAK"
   ]
  },
  {
   "cell_type": "markdown",
   "id": "7e39b8ba",
   "metadata": {},
   "source": [
    "# Veri biliminde en çok kullanılan kütüphanedir.\n"
   ]
  },
  {
   "cell_type": "code",
   "execution_count": 2,
   "id": "9016f94c",
   "metadata": {},
   "outputs": [],
   "source": [
    "lıstem=[1,2,3,4,5,6,7,9]"
   ]
  },
  {
   "cell_type": "code",
   "execution_count": 3,
   "id": "55788a16",
   "metadata": {},
   "outputs": [
    {
     "data": {
      "text/plain": [
       "list"
      ]
     },
     "execution_count": 3,
     "metadata": {},
     "output_type": "execute_result"
    }
   ],
   "source": [
    "type(lıstem)"
   ]
  },
  {
   "cell_type": "code",
   "execution_count": 6,
   "id": "bf1e0edb",
   "metadata": {},
   "outputs": [],
   "source": [
    "# numpy ile çalışmaya başlamadan önce ilk yapman gereken kütüphaneyi import etmendir."
   ]
  },
  {
   "cell_type": "code",
   "execution_count": 7,
   "id": "874357e5",
   "metadata": {},
   "outputs": [],
   "source": [
    "import numpy as np"
   ]
  },
  {
   "cell_type": "code",
   "execution_count": 8,
   "id": "d10a5df1",
   "metadata": {},
   "outputs": [
    {
     "data": {
      "text/plain": [
       "array([1, 2, 3, 4, 5, 6, 7, 9])"
      ]
     },
     "execution_count": 8,
     "metadata": {},
     "output_type": "execute_result"
    }
   ],
   "source": [
    "# yukarıda verilen listeyi bir numpy dizisine çevirelim\n",
    "np.array(lıstem)"
   ]
  },
  {
   "cell_type": "code",
   "execution_count": 10,
   "id": "1d080966",
   "metadata": {},
   "outputs": [
    {
     "data": {
      "text/plain": [
       "numpy.ndarray"
      ]
     },
     "execution_count": 10,
     "metadata": {},
     "output_type": "execute_result"
    }
   ],
   "source": [
    "#eğer türüne bakmak istersen, türü nupy içinden türeyen bir nesnedir.\n",
    "type(np.array(lıstem))"
   ]
  },
  {
   "cell_type": "code",
   "execution_count": 11,
   "id": "d4148c00",
   "metadata": {},
   "outputs": [],
   "source": [
    "#numpy da liste içinde liste ,dizi içinde dizi oluşturabilirsin.\n",
    "#tipini sorgularsan eğer sana liste verecektir"
   ]
  },
  {
   "cell_type": "code",
   "execution_count": 12,
   "id": "5878ee38",
   "metadata": {},
   "outputs": [],
   "source": [
    "matrixlıstesı=[[1,2,3],[4,5,6],[7,8,9]]"
   ]
  },
  {
   "cell_type": "code",
   "execution_count": 13,
   "id": "d20f6a82",
   "metadata": {},
   "outputs": [
    {
     "data": {
      "text/plain": [
       "list"
      ]
     },
     "execution_count": 13,
     "metadata": {},
     "output_type": "execute_result"
    }
   ],
   "source": [
    "type(matrixlıstesı)"
   ]
  },
  {
   "cell_type": "code",
   "execution_count": 14,
   "id": "b162a304",
   "metadata": {},
   "outputs": [
    {
     "data": {
      "text/plain": [
       "4"
      ]
     },
     "execution_count": 14,
     "metadata": {},
     "output_type": "execute_result"
    }
   ],
   "source": [
    "matrixlıstesı[1][0]"
   ]
  },
  {
   "cell_type": "code",
   "execution_count": 16,
   "id": "44d7ff8e",
   "metadata": {},
   "outputs": [
    {
     "data": {
      "text/plain": [
       "array([[1, 2, 3],\n",
       "       [4, 5, 6],\n",
       "       [7, 8, 9]])"
      ]
     },
     "execution_count": 16,
     "metadata": {},
     "output_type": "execute_result"
    }
   ],
   "source": [
    "np.array(matrixlıstesı)\n",
    "#listenin diziye çevrilmesi"
   ]
  },
  {
   "cell_type": "markdown",
   "id": "cae7c818",
   "metadata": {},
   "source": [
    "# NUMPY YÖNTEMLERİ"
   ]
  },
  {
   "cell_type": "code",
   "execution_count": 17,
   "id": "7f4793dd",
   "metadata": {},
   "outputs": [],
   "source": [
    "# ARANGE : range fonksiyonun aynısı tek farkı şudur : sana liste değilde dizi şeklinde oluşturuyor"
   ]
  },
  {
   "cell_type": "code",
   "execution_count": 18,
   "id": "bb3ff767",
   "metadata": {},
   "outputs": [
    {
     "data": {
      "text/plain": [
       "[0, 1, 2, 3, 4, 5, 6, 7, 8, 9]"
      ]
     },
     "execution_count": 18,
     "metadata": {},
     "output_type": "execute_result"
    }
   ],
   "source": [
    "list(range(0,10))"
   ]
  },
  {
   "cell_type": "code",
   "execution_count": 19,
   "id": "f510dd80",
   "metadata": {},
   "outputs": [
    {
     "data": {
      "text/plain": [
       "array([0, 1, 2, 3, 4, 5, 6, 7, 8, 9])"
      ]
     },
     "execution_count": 19,
     "metadata": {},
     "output_type": "execute_result"
    }
   ],
   "source": [
    "np.array(range(0,10))"
   ]
  },
  {
   "cell_type": "code",
   "execution_count": 21,
   "id": "05ce67b2",
   "metadata": {},
   "outputs": [
    {
     "data": {
      "text/plain": [
       "array([  0,  10,  20,  30,  40,  50,  60,  70,  80,  90, 100, 110, 120,\n",
       "       130, 140, 150, 160, 170, 180, 190])"
      ]
     },
     "execution_count": 21,
     "metadata": {},
     "output_type": "execute_result"
    }
   ],
   "source": [
    "np.array(range(0,200,10))"
   ]
  },
  {
   "cell_type": "code",
   "execution_count": 23,
   "id": "f0cefe2d",
   "metadata": {},
   "outputs": [
    {
     "data": {
      "text/plain": [
       "array([[0., 0., 0., 0., 0., 0., 0., 0., 0.],\n",
       "       [0., 0., 0., 0., 0., 0., 0., 0., 0.],\n",
       "       [0., 0., 0., 0., 0., 0., 0., 0., 0.],\n",
       "       [0., 0., 0., 0., 0., 0., 0., 0., 0.],\n",
       "       [0., 0., 0., 0., 0., 0., 0., 0., 0.],\n",
       "       [0., 0., 0., 0., 0., 0., 0., 0., 0.],\n",
       "       [0., 0., 0., 0., 0., 0., 0., 0., 0.],\n",
       "       [0., 0., 0., 0., 0., 0., 0., 0., 0.],\n",
       "       [0., 0., 0., 0., 0., 0., 0., 0., 0.]])"
      ]
     },
     "execution_count": 23,
     "metadata": {},
     "output_type": "execute_result"
    }
   ],
   "source": [
    "#ZEROS : bildiğin 0 oluşturma yöntemidir.\n",
    "np.zeros((9,9))"
   ]
  },
  {
   "cell_type": "code",
   "execution_count": 24,
   "id": "34491311",
   "metadata": {},
   "outputs": [
    {
     "data": {
      "text/plain": [
       "array([[1., 1., 1., 1., 1., 1., 1., 1., 1.],\n",
       "       [1., 1., 1., 1., 1., 1., 1., 1., 1.],\n",
       "       [1., 1., 1., 1., 1., 1., 1., 1., 1.],\n",
       "       [1., 1., 1., 1., 1., 1., 1., 1., 1.],\n",
       "       [1., 1., 1., 1., 1., 1., 1., 1., 1.],\n",
       "       [1., 1., 1., 1., 1., 1., 1., 1., 1.],\n",
       "       [1., 1., 1., 1., 1., 1., 1., 1., 1.],\n",
       "       [1., 1., 1., 1., 1., 1., 1., 1., 1.],\n",
       "       [1., 1., 1., 1., 1., 1., 1., 1., 1.]])"
      ]
     },
     "execution_count": 24,
     "metadata": {},
     "output_type": "execute_result"
    }
   ],
   "source": [
    "#ONES:  1 oluşturma yöntemidir.\n",
    "np.ones((9,9))"
   ]
  },
  {
   "cell_type": "code",
   "execution_count": 25,
   "id": "18b73dc8",
   "metadata": {},
   "outputs": [],
   "source": [
    "#LİNSPACE : bu metot belirtilen numaralar arasında eşit olarak boyutlandırma yap demektir.\n",
    "# örneğin 0-20 arasında 6 tane rakam seç ve 6 sınında uzaklığı birbirine eşit olsun"
   ]
  },
  {
   "cell_type": "code",
   "execution_count": 26,
   "id": "30ea373a",
   "metadata": {},
   "outputs": [
    {
     "data": {
      "text/plain": [
       "array([ 0.,  4.,  8., 12., 16., 20.])"
      ]
     },
     "execution_count": 26,
     "metadata": {},
     "output_type": "execute_result"
    }
   ],
   "source": [
    "np.linspace(0,20,6)"
   ]
  },
  {
   "cell_type": "code",
   "execution_count": 27,
   "id": "6c66f449",
   "metadata": {},
   "outputs": [
    {
     "data": {
      "text/plain": [
       "array([ 0.        ,  2.22222222,  4.44444444,  6.66666667,  8.88888889,\n",
       "       11.11111111, 13.33333333, 15.55555556, 17.77777778, 20.        ])"
      ]
     },
     "execution_count": 27,
     "metadata": {},
     "output_type": "execute_result"
    }
   ],
   "source": [
    "np.linspace(0,20,10)"
   ]
  },
  {
   "cell_type": "code",
   "execution_count": 28,
   "id": "977147c7",
   "metadata": {},
   "outputs": [
    {
     "data": {
      "text/plain": [
       "array([[1., 0., 0., 0., 0.],\n",
       "       [0., 1., 0., 0., 0.],\n",
       "       [0., 0., 1., 0., 0.],\n",
       "       [0., 0., 0., 1., 0.],\n",
       "       [0., 0., 0., 0., 1.]])"
      ]
     },
     "execution_count": 28,
     "metadata": {},
     "output_type": "execute_result"
    }
   ],
   "source": [
    "#EYE :Matrix oluşturur. diagonal bir yapısı vardır yani orta çubuk hep 1 olacak geri kalanları ise 0 olacaktır\n",
    "\n",
    "np.eye(5)\n"
   ]
  },
  {
   "cell_type": "code",
   "execution_count": 29,
   "id": "64088a5b",
   "metadata": {},
   "outputs": [
    {
     "data": {
      "text/plain": [
       "array([0.83184954, 0.46700702, 0.71894129, 0.8596919 , 0.02130575,\n",
       "       0.30675448])"
      ]
     },
     "execution_count": 29,
     "metadata": {},
     "output_type": "execute_result"
    }
   ],
   "source": [
    "#RANDOM : random oluşturur l,ste yada dizi oluşturabilir\n",
    "np.random.rand(6)"
   ]
  },
  {
   "cell_type": "code",
   "execution_count": 11,
   "id": "ad69a04f",
   "metadata": {},
   "outputs": [
    {
     "data": {
      "text/plain": [
       "array([[0.69220771, 0.47894404, 0.0147867 ],\n",
       "       [0.85857901, 0.05715257, 0.41225324],\n",
       "       [0.77370776, 0.77400814, 0.22494774]])"
      ]
     },
     "execution_count": 11,
     "metadata": {},
     "output_type": "execute_result"
    }
   ],
   "source": [
    "import numpy as np\n",
    "np.random.rand(3,3)\n"
   ]
  },
  {
   "cell_type": "code",
   "execution_count": 12,
   "id": "01c71549",
   "metadata": {},
   "outputs": [
    {
     "data": {
      "text/plain": [
       "array([5, 4, 1, 3, 2])"
      ]
     },
     "execution_count": 12,
     "metadata": {},
     "output_type": "execute_result"
    }
   ],
   "source": [
    "#1 ve 10 arasında 10 dahil değil 5 tane sayı üret bana\n",
    "np.random.randint(1,10,5)"
   ]
  },
  {
   "cell_type": "code",
   "execution_count": 13,
   "id": "a605522d",
   "metadata": {},
   "outputs": [],
   "source": [
    "numpyDızım=np.arange(30)"
   ]
  },
  {
   "cell_type": "code",
   "execution_count": 14,
   "id": "6ad3d9f6",
   "metadata": {},
   "outputs": [
    {
     "data": {
      "text/plain": [
       "array([ 0,  1,  2,  3,  4,  5,  6,  7,  8,  9, 10, 11, 12, 13, 14, 15, 16,\n",
       "       17, 18, 19, 20, 21, 22, 23, 24, 25, 26, 27, 28, 29])"
      ]
     },
     "execution_count": 14,
     "metadata": {},
     "output_type": "execute_result"
    }
   ],
   "source": [
    "numpyDızım"
   ]
  },
  {
   "cell_type": "code",
   "execution_count": 15,
   "id": "bcbe3b16",
   "metadata": {},
   "outputs": [
    {
     "data": {
      "text/plain": [
       "array([[ 0,  1,  2,  3,  4],\n",
       "       [ 5,  6,  7,  8,  9],\n",
       "       [10, 11, 12, 13, 14],\n",
       "       [15, 16, 17, 18, 19],\n",
       "       [20, 21, 22, 23, 24],\n",
       "       [25, 26, 27, 28, 29]])"
      ]
     },
     "execution_count": 15,
     "metadata": {},
     "output_type": "execute_result"
    }
   ],
   "source": [
    "numpyDızım.reshape(6,5)"
   ]
  },
  {
   "cell_type": "code",
   "execution_count": 16,
   "id": "b823ce28",
   "metadata": {},
   "outputs": [
    {
     "data": {
      "text/plain": [
       "29"
      ]
     },
     "execution_count": 16,
     "metadata": {},
     "output_type": "execute_result"
    }
   ],
   "source": [
    "numpyDızım.max()"
   ]
  },
  {
   "cell_type": "code",
   "execution_count": 17,
   "id": "89ab0259",
   "metadata": {},
   "outputs": [
    {
     "data": {
      "text/plain": [
       "0"
      ]
     },
     "execution_count": 17,
     "metadata": {},
     "output_type": "execute_result"
    }
   ],
   "source": [
    "numpyDızım.min()"
   ]
  },
  {
   "cell_type": "code",
   "execution_count": 18,
   "id": "2a4ef181",
   "metadata": {},
   "outputs": [
    {
     "data": {
      "text/plain": [
       "29"
      ]
     },
     "execution_count": 18,
     "metadata": {},
     "output_type": "execute_result"
    }
   ],
   "source": [
    "numpyDızım.argmax()\n",
    "#en yüksek sayı kaçıncı indekste"
   ]
  },
  {
   "cell_type": "code",
   "execution_count": 19,
   "id": "2396a72b",
   "metadata": {},
   "outputs": [
    {
     "data": {
      "text/plain": [
       "0"
      ]
     },
     "execution_count": 19,
     "metadata": {},
     "output_type": "execute_result"
    }
   ],
   "source": [
    "numpyDızım.argmin()"
   ]
  },
  {
   "cell_type": "code",
   "execution_count": 20,
   "id": "f7c5ad07",
   "metadata": {},
   "outputs": [
    {
     "data": {
      "text/plain": [
       "(30,)"
      ]
     },
     "execution_count": 20,
     "metadata": {},
     "output_type": "execute_result"
    }
   ],
   "source": [
    "numpyDızım.shape\n",
    "#dizinin güncel şeklini görebilmeni sağlar"
   ]
  },
  {
   "cell_type": "code",
   "execution_count": 22,
   "id": "4a7dc3cc",
   "metadata": {},
   "outputs": [
    {
     "data": {
      "text/plain": [
       "(30,)"
      ]
     },
     "execution_count": 22,
     "metadata": {},
     "output_type": "execute_result"
    }
   ],
   "source": [
    "#shape: şekil demek güncel dizimin hangi şekilde olduğunu ben  shape ile görebiliyorum\n",
    "numpyDızım.shape"
   ]
  },
  {
   "cell_type": "markdown",
   "id": "fa7cc2a8",
   "metadata": {},
   "source": [
    "  "
   ]
  },
  {
   "cell_type": "code",
   "execution_count": 25,
   "id": "13689226",
   "metadata": {},
   "outputs": [
    {
     "data": {
      "text/plain": [
       "array([[ 0,  1,  2,  3,  4,  5],\n",
       "       [ 6,  7,  8,  9, 10, 11],\n",
       "       [12, 13, 14, 15, 16, 17],\n",
       "       [18, 19, 20, 21, 22, 23],\n",
       "       [24, 25, 26, 27, 28, 29]])"
      ]
     },
     "execution_count": 25,
     "metadata": {},
     "output_type": "execute_result"
    }
   ],
   "source": [
    "numpyDızım.reshape(5,6)"
   ]
  },
  {
   "cell_type": "markdown",
   "id": "5c235e21",
   "metadata": {},
   "source": [
    "# # NUMPY İNDEKSLER"
   ]
  },
  {
   "cell_type": "code",
   "execution_count": 26,
   "id": "ede1a331",
   "metadata": {},
   "outputs": [],
   "source": [
    "#Çekmek istediğin herhangi bir değer olduğunda sen bunu indeksler yardımı ile çekeceksin."
   ]
  },
  {
   "cell_type": "code",
   "execution_count": 27,
   "id": "d6a5b15e",
   "metadata": {},
   "outputs": [],
   "source": [
    "import numpy as np"
   ]
  },
  {
   "cell_type": "code",
   "execution_count": 31,
   "id": "13171f18",
   "metadata": {},
   "outputs": [],
   "source": [
    "dızımmm=np.arange(0,12)"
   ]
  },
  {
   "cell_type": "code",
   "execution_count": 32,
   "id": "0f8d4f19",
   "metadata": {},
   "outputs": [
    {
     "data": {
      "text/plain": [
       "array([ 0,  1,  2,  3,  4,  5,  6,  7,  8,  9, 10, 11])"
      ]
     },
     "execution_count": 32,
     "metadata": {},
     "output_type": "execute_result"
    }
   ],
   "source": [
    "dızımmm"
   ]
  },
  {
   "cell_type": "code",
   "execution_count": 33,
   "id": "dca0b9ef",
   "metadata": {},
   "outputs": [
    {
     "data": {
      "text/plain": [
       "5"
      ]
     },
     "execution_count": 33,
     "metadata": {},
     "output_type": "execute_result"
    }
   ],
   "source": [
    "dızımmm[5]"
   ]
  },
  {
   "cell_type": "code",
   "execution_count": 34,
   "id": "805ef358",
   "metadata": {},
   "outputs": [
    {
     "data": {
      "text/plain": [
       "array([3, 4, 5, 6, 7])"
      ]
     },
     "execution_count": 34,
     "metadata": {},
     "output_type": "execute_result"
    }
   ],
   "source": [
    "dızımmm[3:8]"
   ]
  },
  {
   "cell_type": "code",
   "execution_count": 35,
   "id": "75fc3c24",
   "metadata": {},
   "outputs": [],
   "source": [
    "baskaDızı=np.arange(0,24)"
   ]
  },
  {
   "cell_type": "code",
   "execution_count": 36,
   "id": "db16854f",
   "metadata": {},
   "outputs": [
    {
     "data": {
      "text/plain": [
       "array([ 0,  1,  2,  3,  4,  5,  6,  7,  8,  9, 10, 11, 12, 13, 14, 15, 16,\n",
       "       17, 18, 19, 20, 21, 22, 23])"
      ]
     },
     "execution_count": 36,
     "metadata": {},
     "output_type": "execute_result"
    }
   ],
   "source": [
    "baskaDızı"
   ]
  },
  {
   "cell_type": "code",
   "execution_count": 38,
   "id": "be599c1c",
   "metadata": {},
   "outputs": [],
   "source": [
    "dıgerDızı=baskaDızı[3:9]"
   ]
  },
  {
   "cell_type": "code",
   "execution_count": 39,
   "id": "65c5de33",
   "metadata": {},
   "outputs": [
    {
     "data": {
      "text/plain": [
       "array([3, 4, 5, 6, 7, 8])"
      ]
     },
     "execution_count": 39,
     "metadata": {},
     "output_type": "execute_result"
    }
   ],
   "source": [
    "dıgerDızı"
   ]
  },
  {
   "cell_type": "code",
   "execution_count": 40,
   "id": "38533e47",
   "metadata": {},
   "outputs": [],
   "source": [
    "#örneğin ben tüm elemanların değerlerini 700 e eşitlemek istiyorum.\n",
    "dıgerDızı[:]=700"
   ]
  },
  {
   "cell_type": "code",
   "execution_count": 41,
   "id": "941e2b8e",
   "metadata": {},
   "outputs": [
    {
     "data": {
      "text/plain": [
       "array([700, 700, 700, 700, 700, 700])"
      ]
     },
     "execution_count": 41,
     "metadata": {},
     "output_type": "execute_result"
    }
   ],
   "source": [
    "dıgerDızı"
   ]
  },
  {
   "cell_type": "code",
   "execution_count": 42,
   "id": "5849b2a4",
   "metadata": {},
   "outputs": [
    {
     "data": {
      "text/plain": [
       "array([  0,   1,   2, 700, 700, 700, 700, 700, 700,   9,  10,  11,  12,\n",
       "        13,  14,  15,  16,  17,  18,  19,  20,  21,  22,  23])"
      ]
     },
     "execution_count": 42,
     "metadata": {},
     "output_type": "execute_result"
    }
   ],
   "source": [
    "#baska diziyi çağırısam eğer ordaki değerler de değişti\n",
    "baskaDızı"
   ]
  },
  {
   "cell_type": "code",
   "execution_count": null,
   "id": "50904e4a",
   "metadata": {},
   "outputs": [],
   "source": []
  }
 ],
 "metadata": {
  "kernelspec": {
   "display_name": "Python 3 (ipykernel)",
   "language": "python",
   "name": "python3"
  },
  "language_info": {
   "codemirror_mode": {
    "name": "ipython",
    "version": 3
   },
   "file_extension": ".py",
   "mimetype": "text/x-python",
   "name": "python",
   "nbconvert_exporter": "python",
   "pygments_lexer": "ipython3",
   "version": "3.9.7"
  }
 },
 "nbformat": 4,
 "nbformat_minor": 5
}
